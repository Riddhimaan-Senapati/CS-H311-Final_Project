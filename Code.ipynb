{
 "cells": [
  {
   "cell_type": "code",
   "execution_count": 3,
   "metadata": {},
   "outputs": [],
   "source": [
    "from PIL import Image \n",
    "import numpy as np"
   ]
  },
  {
   "cell_type": "code",
   "execution_count": 1,
   "metadata": {},
   "outputs": [
    {
     "ename": "NameError",
     "evalue": "name 'img_matrix_1' is not defined",
     "output_type": "error",
     "traceback": [
      "\u001b[1;31m---------------------------------------------------------------------------\u001b[0m",
      "\u001b[1;31mNameError\u001b[0m                                 Traceback (most recent call last)",
      "Cell \u001b[1;32mIn[1], line 16\u001b[0m\n\u001b[0;32m     13\u001b[0m             same_hash\u001b[38;5;241m+\u001b[39m\u001b[38;5;241m=\u001b[39m\u001b[38;5;241m1\u001b[39m\n\u001b[0;32m     14\u001b[0m     \u001b[38;5;28;01mreturn\u001b[39;00m (same_hash\u001b[38;5;241m/\u001b[39m(\u001b[38;5;28mlen\u001b[39m(m1)\u001b[38;5;241m/\u001b[39ms))\u001b[38;5;241m*\u001b[39m\u001b[38;5;241m100\u001b[39m\n\u001b[1;32m---> 16\u001b[0m black(\u001b[43mimg_matrix_1\u001b[49m,img_matrix_1,\u001b[38;5;241m500\u001b[39m)\n",
      "\u001b[1;31mNameError\u001b[0m: name 'img_matrix_1' is not defined"
     ]
    }
   ],
   "source": [
    "#Rabin-Karp for black-white images of same size.\n",
    "def hash_function(mat,i,s):\n",
    "    k=0\n",
    "    for j in range(i,i+s):\n",
    "        k+=int(mat[j])\n",
    "    return k\n",
    "def rabin_karp_images(patch,image,s):\n",
    "    image_file = Image.open(image) # open colour image\n",
    "    image_file = image_file.convert('1') # convert image to black and white\n",
    "    image_file.save('result.png')\n",
    "    img_matrix_1 = np.array(image_file).flatten()\n",
    "    hash_1\n",
    "    for i in range(0,len(img_matrix_1),s):\n",
    "        hash_2=hash_function(img_matrix_1,i,s)\n",
    "        if(hash_1==hash_2):\n",
    "            same_hash+=1\n",
    "    return (same_hash/(len(m1)/s))*100\n"
   ]
  }
 ],
 "metadata": {
  "kernelspec": {
   "display_name": "Python 3",
   "language": "python",
   "name": "python3"
  },
  "language_info": {
   "codemirror_mode": {
    "name": "ipython",
    "version": 3
   },
   "file_extension": ".py",
   "mimetype": "text/x-python",
   "name": "python",
   "nbconvert_exporter": "python",
   "pygments_lexer": "ipython3",
   "version": "3.10.6"
  }
 },
 "nbformat": 4,
 "nbformat_minor": 2
}
