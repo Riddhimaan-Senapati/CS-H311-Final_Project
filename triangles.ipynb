{
 "cells": [
  {
   "cell_type": "code",
   "execution_count": 1,
   "metadata": {},
   "outputs": [],
   "source": [
    "import networkx as nx\n",
    "import matplotlib.pyplot as plt\n",
    "import numpy as np\n",
    "import random\n",
    "import time\n",
    "import csv\n",
    "import math\n",
    "import random\n",
    "import time"
   ]
  },
  {
   "cell_type": "code",
   "execution_count": 2,
   "metadata": {},
   "outputs": [],
   "source": [
    "def alpha_degree(graph,k):\n",
    "  start=time.time()\n",
    "  degrees=[]\n",
    "  triangles=[]\n",
    "  sorted_nodes = sorted(graph.degree, key=lambda x: x[1], reverse=True)\n",
    "  num_nodes = len(sorted_nodes)\n",
    "  third = num_nodes // 3  # Integer division to get roughly equal parts\n",
    "  list1 = sorted_nodes[:third]\n",
    "  list2 = sorted_nodes[third:2 * third]\n",
    "  list3 = sorted_nodes[2 * third:]\n",
    "  sample_size=math.floor(k*third)\n",
    "  node_sample_1 = random.sample(list1, sample_size)\n",
    "  node_sample_2=random.sample(list2, sample_size)\n",
    "  node_sample_3=random.sample(list3,sample_size)\n",
    "  node_samples=node_sample_1+node_sample_2+node_sample_3\n",
    "  for node,degree in node_samples:\n",
    "    degree=0 if degree<=1 else math.log(degree)\n",
    "    triangle=nx.triangles(graph,node)\n",
    "    triangle=0 if triangle<=1 else math.log(triangle)\n",
    "    degrees.append(degree)\n",
    "    triangles.append(triangle)\n",
    "\n",
    "  degrees=np.array(degrees)\n",
    "  triangles=np.array(triangles)\n",
    "  b, a = np.polyfit(degrees, triangles, deg=1)\n",
    "  end=time.time()\n",
    "  return [b,end-start,a]\n"
   ]
  },
  {
   "cell_type": "code",
   "execution_count": 4,
   "metadata": {},
   "outputs": [],
   "source": [
    "def exact_netx(graph):\n",
    "  start = time.time()\n",
    "  t = sum(nx.triangles(graph).values())/3\n",
    "  end = time.time()\n",
    "  return {\"triangles\": t, \"time\": end - start}"
   ]
  },
  {
   "cell_type": "code",
   "execution_count": 14,
   "metadata": {},
   "outputs": [],
   "source": [
    "def variance_reduction(graph,sample_size):\n",
    " start = time.time()\n",
    " nodes=[]\n",
    " degrees=[]\n",
    " alpha_result=alpha_degree(graph,0.05)\n",
    " alpha=alpha_result[0]\n",
    " factor=math.e**alpha_result[2]\n",
    " degree_alpha_sum=0\n",
    " for node in graph:\n",
    "   nodes.append(node)\n",
    "   degree=graph.degree(node)**alpha\n",
    "   degrees.append(degree)\n",
    "   degree_alpha_sum+=degree\n",
    " n=len(nodes)\n",
    " node_sample = random.choices(nodes,weights=degrees,k=sample_size)\n",
    " sample_diff = 0\n",
    " for node in node_sample:\n",
    "    sample_diff += (nx.triangles(graph, node)-factor*(graph.degree(node)**alpha))\n",
    " diff=(n/3*sample_size)*sample_diff\n",
    " t = diff+degree_alpha_sum*factor\n",
    " end=time.time()\n",
    " return {\"triangles\": t, \"time\": end - start}"
   ]
  },
  {
   "cell_type": "code",
   "execution_count": 16,
   "metadata": {},
   "outputs": [
    {
     "name": "stdout",
     "output_type": "stream",
     "text": [
      "Exact NetworkX Triangles: 1612010.0, Time: 0.7527480125427246s\n",
      "Trial 0 for variance_reduction with Sample Size: 201\n",
      "Trial 0 for variance_reduction with Sample Size: 403\n",
      "Trial 0 for variance_reduction with Sample Size: 605\n",
      "Trial 0 for variance_reduction with Sample Size: 807\n",
      "Trial 0 for variance_reduction with Sample Size: 1009\n",
      "Trial 0 for variance_reduction with Sample Size: 1211\n",
      "Trial 0 for variance_reduction with Sample Size: 1413\n",
      "Trial 0 for variance_reduction with Sample Size: 1615\n",
      "Trial 0 for variance_reduction with Sample Size: 1817\n",
      "Trial 0 for variance_reduction with Sample Size: 2019\n",
      "Accuracies: [('variance_reduction', 201, 438812.807635667), ('variance_reduction', 403, 1666917.5345392448), ('variance_reduction', 605, 6015833.692004554), ('variance_reduction', 807, 7127214.706403954), ('variance_reduction', 1009, 9772600.123060988), ('variance_reduction', 1211, 24830341.786878157), ('variance_reduction', 1413, 20199639.713722855), ('variance_reduction', 1615, 24408991.649078973), ('variance_reduction', 1817, 34227491.68654185), ('variance_reduction', 2019, 46662330.97131482)]\n",
      "Times: [('variance_reduction', 201, 1.0630536079406738), ('variance_reduction', 403, 1.9958441257476807), ('variance_reduction', 605, 4.363243579864502), ('variance_reduction', 807, 4.162746906280518), ('variance_reduction', 1009, 5.094404697418213), ('variance_reduction', 1211, 5.790079355239868), ('variance_reduction', 1413, 5.926905155181885), ('variance_reduction', 1615, 6.646840810775757), ('variance_reduction', 1817, 7.301309585571289), ('variance_reduction', 2019, 9.164249658584595)]\n"
     ]
    }
   ],
   "source": [
    "# Sampling Testing Function\n",
    "def testing_graph_methods_sampling(graph, accuracies, times,algo): \n",
    "    exact_netx_result = exact_netx(graph)\n",
    "    exact_triangles = exact_netx_result['triangles']\n",
    "    print(f\"Exact NetworkX Triangles: {exact_triangles}, Time: {exact_netx_result['time']}s\")\n",
    "    total_nodes = len(graph.nodes())\n",
    "    sample_sizes = [int(total_nodes * percentage / 100) for percentage in range(5,55,5) ]\n",
    "    algo_name=algo.__name__\n",
    "    method_accuracies=[0 for sample_size in range(0,len(sample_sizes)+1) ]\n",
    "    method_times=[0 for percentage in range(0,len(sample_sizes)+1)]\n",
    " \n",
    "# create for loop for trials and another for loop for sample size according to sampling; between 5% and 50% in increments of 5% f the sample size given.\n",
    "    # evaluate each method with respective names according to the methods being used\n",
    "    for trial in range(0,1):\n",
    "            # Run 10 trials for the current method and sample size\n",
    "            iteration=0\n",
    "            for sample_size in sample_sizes:\n",
    "                print(f\"Trial {trial} for {algo_name} with Sample Size: {sample_size}\")\n",
    "                result = algo(graph, sample_size)\n",
    "                rel_error = abs(exact_triangles - result['triangles']) / exact_triangles\n",
    "                method_accuracies[iteration]+=rel_error\n",
    "                method_times[iteration]+=result['time']\n",
    "                iteration+=1\n",
    "    #Go over each sample size and average their accuracies and times\n",
    "    for iteration in range(0,10):   \n",
    "      avg_time = method_times[iteration]\n",
    "      avg_accuracy=method_accuracies[iteration]\n",
    "      accuracies.append((algo_name, sample_sizes[iteration], avg_accuracy))\n",
    "      times.append((algo_name, sample_sizes[iteration], avg_time))\n",
    "\n",
    "accuracies = []\n",
    "times = []\n",
    " \n",
    "fb_graph = nx.read_edgelist('facebook_combined.txt', create_using=nx.Graph(), nodetype=int)\n",
    "#print(variance_reduction(fb_graph,2000))\n",
    " \n",
    "testing_graph_methods_sampling(fb_graph, accuracies, times,variance_reduction)\n",
    "print(\"Accuracies:\", accuracies)\n",
    "print(\"Times:\", times)\n",
    "with open('output_accuracy.csv', 'a', newline='') as csvfile:\n",
    "    writer = csv.writer(csvfile)\n",
    "    writer.writerows(accuracies)\n",
    "with open('output_time.csv', 'a', newline='') as csvfile:\n",
    "    writer = csv.writer(csvfile)\n",
    "    writer.writerows(times)"
   ]
  }
 ],
 "metadata": {
  "kernelspec": {
   "display_name": "Python 3",
   "language": "python",
   "name": "python3"
  },
  "language_info": {
   "codemirror_mode": {
    "name": "ipython",
    "version": 3
   },
   "file_extension": ".py",
   "mimetype": "text/x-python",
   "name": "python",
   "nbconvert_exporter": "python",
   "pygments_lexer": "ipython3",
   "version": "3.10.6"
  }
 },
 "nbformat": 4,
 "nbformat_minor": 2
}
