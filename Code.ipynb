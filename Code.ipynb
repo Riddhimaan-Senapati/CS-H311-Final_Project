{
 "cells": [
  {
   "cell_type": "code",
   "execution_count": 3,
   "metadata": {},
   "outputs": [],
   "source": [
    "from PIL import Image \n",
    "import numpy as np\n",
    "image_file = Image.open(\"Research Report Meme.png\") # open colour image\n",
    "image_file = image_file.convert('1') # convert image to black and white\n",
    "image_file.save('result.png')"
   ]
  },
  {
   "cell_type": "code",
   "execution_count": 12,
   "metadata": {},
   "outputs": [
    {
     "name": "stdout",
     "output_type": "stream",
     "text": [
      "500\n"
     ]
    }
   ],
   "source": [
    "img_matrix_1 = np.array(image_file).flatten()\n"
   ]
  },
  {
   "cell_type": "code",
   "execution_count": 14,
   "metadata": {},
   "outputs": [
    {
     "data": {
      "text/plain": [
       "100.0"
      ]
     },
     "execution_count": 14,
     "metadata": {},
     "output_type": "execute_result"
    }
   ],
   "source": [
    "#Rabin-Karp for black-white images of same size.\n",
    "def hash_function(mat,i,s):\n",
    "    k=0\n",
    "    for j in range(i,i+s):\n",
    "        k+=int(mat[j])\n",
    "    return k\n",
    "def black(m1,m2,s):\n",
    "    same_hash=0\n",
    "    for i in range(0,len(m1),s):\n",
    "        hash_1=hash_function(m1,i,s)\n",
    "        hash_2=hash_function(m2,i,s)\n",
    "        if(hash_1==hash_2):\n",
    "            same_hash+=1\n",
    "    return (same_hash/(len(m1)/s))*100\n",
    "\n",
    "black(img_matrix_1,img_matrix_1,500)"
   ]
  }
 ],
 "metadata": {
  "kernelspec": {
   "display_name": "Python 3",
   "language": "python",
   "name": "python3"
  },
  "language_info": {
   "codemirror_mode": {
    "name": "ipython",
    "version": 3
   },
   "file_extension": ".py",
   "mimetype": "text/x-python",
   "name": "python",
   "nbconvert_exporter": "python",
   "pygments_lexer": "ipython3",
   "version": "3.10.6"
  }
 },
 "nbformat": 4,
 "nbformat_minor": 2
}
