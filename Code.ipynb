{
 "cells": [
  {
   "cell_type": "code",
   "execution_count": 1,
   "metadata": {},
   "outputs": [],
   "source": [
    "from PIL import Image, ImageDraw\n",
    "import numpy as np\n"
   ]
  },
  {
   "cell_type": "code",
   "execution_count": 11,
   "metadata": {},
   "outputs": [],
   "source": [
    "# Create a white image\n",
    "image_size = (250, 250)\n",
    "white_image = Image.new(\"RGB\", image_size, color=\"white\")\n",
    "\n",
    "# Draw a black pixel at the center\n",
    "draw = ImageDraw.Draw(white_image)\n",
    "center_x, center_y = 125, 125\n",
    "draw.rectangle([center_x - 25, center_y - 25, center_x + 24, center_y + 24], fill=\"black\")\n",
    " #Save the image\n",
    "white_image.save(\"white_image_with_black_center.png\")\n",
    "#create black patch that is in the above image\n",
    "image_size = (50, 50)\n",
    "black_patch = Image.new(\"RGB\", image_size, color=\"black\")\n",
    "#save the image\n",
    "black_patch.save(\"black_patch.png\")\n",
    "\n",
    "\n"
   ]
  },
  {
   "cell_type": "code",
   "execution_count": 12,
   "metadata": {},
   "outputs": [
    {
     "name": "stdout",
     "output_type": "stream",
     "text": [
      "2500\n",
      "0\n",
      "False\n"
     ]
    }
   ],
   "source": [
    "#Rabin-Karp for black-white images of same size.\n",
    "\n",
    "def hash_function(mat,i,s):\n",
    "    k=0\n",
    "    max_len=min(len(mat),i+s)\n",
    "    for j in range(i,max_len):\n",
    "        k+=int(mat[j])\n",
    "    return k\n",
    "def rabin_karp_images(patch,image):\n",
    "    image_file = Image.open(image) # open the color image\n",
    "    img_matrix=np.array(image_file).flatten()\n",
    "    image_file = image_file.convert('1') # convert image to black and white\n",
    "    img_matrix_converted = np.array(image_file).flatten() #convert into matrix\n",
    "    patch_file=Image.open(patch)\n",
    "    patch_matrix=np.array(image_file).flatten()\n",
    "    patch_file=patch_file.convert('1')\n",
    "    patch_matrix_converted=np.array(patch_file).flatten()\n",
    "    s=len(patch_matrix_converted)\n",
    "    print(s)\n",
    "    hash_1=hash_function(patch_matrix_converted,0,s)\n",
    "    print(hash_1)\n",
    "    for i in range(0,len(img_matrix_converted)):\n",
    "        hash_2=hash_function(img_matrix_converted,i,s)\n",
    "        if(hash_1==hash_2):\n",
    "            print(hash_2)\n",
    "            for j in range(0,3*s):\n",
    "                if(3*1+j>=len(img_matrix) or j>=len(patch_matrix)):\n",
    "                    return True\n",
    "                if(patch_matrix[j]!=img_matrix[3*i+j]):\n",
    "                    print(j)\n",
    "                    return False\n",
    "            return True\n",
    "    return False\n",
    "\n",
    "\n",
    "\n",
    "    \n",
    "print(rabin_karp_images(\"black_patch.png\",\"white_image_with_black_center.png\"))\n"
   ]
  }
 ],
 "metadata": {
  "kernelspec": {
   "display_name": "Python 3",
   "language": "python",
   "name": "python3"
  },
  "language_info": {
   "codemirror_mode": {
    "name": "ipython",
    "version": 3
   },
   "file_extension": ".py",
   "mimetype": "text/x-python",
   "name": "python",
   "nbconvert_exporter": "python",
   "pygments_lexer": "ipython3",
   "version": "3.10.6"
  }
 },
 "nbformat": 4,
 "nbformat_minor": 2
}
